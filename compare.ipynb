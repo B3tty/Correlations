{
 "cells": [
  {
   "cell_type": "code",
   "execution_count": 6,
   "metadata": {},
   "outputs": [
    {
     "name": "stdout",
     "output_type": "stream",
     "text": [
      "user 1 in variation None\n",
      "user 2 in variation None\n",
      "user 3 in variation None\n",
      "user 4 in variation None\n",
      "user 5 in variation None\n",
      "user 6 in variation None\n",
      "user 7 in variation None\n",
      "user 8 in variation None\n",
      "user 9 in variation None\n"
     ]
    }
   ],
   "source": [
    "from user import User\n",
    "from experiment import *\n",
    "from md5hasher import Md5Hasher\n",
    "\n",
    "\n",
    "expA = Experiment()\n",
    "expA.hasher = Md5Hasher()\n",
    "\n",
    "for i in range(1, 10):\n",
    "    user = User(i)\n",
    "    var = expA.assign(user)\n",
    "    print(f\"user {i} in variation {var}\")\n",
    "\n"
   ]
  },
  {
   "cell_type": "code",
   "execution_count": null,
   "metadata": {},
   "outputs": [],
   "source": []
  },
  {
   "cell_type": "code",
   "execution_count": null,
   "metadata": {},
   "outputs": [],
   "source": []
  }
 ],
 "metadata": {
  "kernelspec": {
   "display_name": "Python 2",
   "language": "python",
   "name": "python2"
  },
  "language_info": {
   "codemirror_mode": {
    "name": "ipython",
    "version": 3
   },
   "file_extension": ".py",
   "mimetype": "text/x-python",
   "name": "python",
   "nbconvert_exporter": "python",
   "pygments_lexer": "ipython3",
   "version": "3.7.3"
  }
 },
 "nbformat": 4,
 "nbformat_minor": 2
}
