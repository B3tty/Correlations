{
 "cells": [
  {
   "cell_type": "code",
   "execution_count": 3,
   "metadata": {},
   "outputs": [
    {
     "name": "stdout",
     "output_type": "stream",
     "text": [
      "Users in variation 1: 4999328 or 49.99328%\n",
      "Users in variation 2: 5000671 or 50.00671%\n"
     ]
    }
   ],
   "source": [
    "from user import User\n",
    "from experiment import *\n",
    "from md5hasher import Md5Hasher\n",
    "\n",
    "\n",
    "expA = Experiment()\n",
    "expA.hasher = Md5Hasher()\n",
    "\n",
    "var1 = 0\n",
    "var2 = 0\n",
    "\n",
    "population = 10000000\n",
    "\n",
    "for i in range(1, population):\n",
    "    user = User(i)\n",
    "    var = expA.assign(user)\n",
    "    if var.name == \"variation1\":\n",
    "        var1 += 1\n",
    "    else:\n",
    "        var2 += 1\n",
    "    #print(f\"user {i} in variation {var.name}\")\n",
    "print(f\"Users in variation 1: {var1} or {var1/population * 100}%\")\n",
    "print(f\"Users in variation 2: {var2} or {var2/population * 100}%\")\n"
   ]
  },
  {
   "cell_type": "code",
   "execution_count": null,
   "metadata": {},
   "outputs": [],
   "source": []
  },
  {
   "cell_type": "code",
   "execution_count": null,
   "metadata": {},
   "outputs": [],
   "source": []
  }
 ],
 "metadata": {
  "kernelspec": {
   "display_name": "Python 3",
   "language": "python",
   "name": "python3"
  }
 },
 "nbformat": 4,
 "nbformat_minor": 2
}
