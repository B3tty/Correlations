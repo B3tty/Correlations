{
 "cells": [
  {
   "cell_type": "code",
   "execution_count": 2,
   "metadata": {},
   "outputs": [
    {
     "name": "stdout",
     "output_type": "stream",
     "text": [
      "user 1 in variation variation1\n",
      "user 2 in variation variation1\n",
      "user 3 in variation variation1\n",
      "user 4 in variation variation1\n",
      "user 5 in variation variation1\n",
      "user 6 in variation variation1\n",
      "user 7 in variation variation1\n",
      "user 8 in variation variation1\n",
      "user 9 in variation variation1\n"
     ]
    }
   ],
   "source": [
    "from user import User\n",
    "from experiment import *\n",
    "from md5hasher import Md5Hasher\n",
    "\n",
    "\n",
    "expA = Experiment()\n",
    "expA.hasher = Md5Hasher()\n",
    "\n",
    "for i in range(1, 10):\n",
    "    user = User(i)\n",
    "    var = expA.assign(user)\n",
    "    print(f\"user {i} in variation {var.name}\")\n",
    "\n"
   ]
  },
  {
   "cell_type": "code",
   "execution_count": null,
   "metadata": {},
   "outputs": [],
   "source": []
  }
 ],
 "metadata": {
  "kernelspec": {
   "display_name": "Python 3",
   "language": "python",
   "name": "python3"
  },
  "language_info": {
   "codemirror_mode": {
    "name": "ipython",
    "version": 3
   },
   "file_extension": ".py",
   "mimetype": "text/x-python",
   "name": "python",
   "nbconvert_exporter": "python",
   "pygments_lexer": "ipython3",
   "version": "3.7.3"
  }
 },
 "nbformat": 4,
 "nbformat_minor": 2
}
