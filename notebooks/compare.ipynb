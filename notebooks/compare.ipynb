{
 "cells": [
  {
   "cell_type": "code",
   "execution_count": 4,
   "metadata": {},
   "outputs": [],
   "source": [
    "from user import User\n",
    "from experiment import *\n",
    "from hasher_implems import *\n",
    "\n",
    "\n",
    "\n",
    "def init_experiment(hasher: Hasher):\n",
    "    exp = Experiment()\n",
    "    exp.hasher = hasher\n",
    "    return exp\n",
    "\n",
    "def check_repartition(experiment: Experiment, population: int):\n",
    "    var1 = 0\n",
    "    var2 = 0\n",
    "\n",
    "    for i in range(1, population):\n",
    "        user = User(i)\n",
    "        var = experiment.assign(user)\n",
    "        if var.name == \"variation1\":\n",
    "            var1 += 1\n",
    "        else:\n",
    "            var2 += 1\n",
    "    print(f\"Users in variation 1: {var1} or {var1 / population * 100}%\")\n",
    "    print(f\"Users in variation 2: {var2} or {var2 / population * 100}%\")\n"
   ]
  },
  {
   "cell_type": "code",
   "execution_count": 7,
   "metadata": {},
   "outputs": [
    {
     "name": "stdout",
     "output_type": "stream",
     "text": [
      "Users in variation 1: 5051 or 50.51%\n",
      "Users in variation 2: 4948 or 49.480000000000004%\n"
     ]
    }
   ],
   "source": [
    "expA = init_experiment(Md5Hasher())\n",
    "check_repartition(expA, 10000)"
   ]
  },
  {
   "cell_type": "code",
   "execution_count": 6,
   "metadata": {},
   "outputs": [
    {
     "name": "stdout",
     "output_type": "stream",
     "text": [
      "Users in variation 1: 4910 or 49.1%\n",
      "Users in variation 2: 5089 or 50.89%\n"
     ]
    }
   ],
   "source": [
    "expB = init_experiment(Sha256Hasher())\n",
    "check_repartition(expB, 10000)"
   ]
  },
  {
   "cell_type": "code",
   "execution_count": 8,
   "metadata": {},
   "outputs": [
    {
     "name": "stdout",
     "output_type": "stream",
     "text": [
      "MD5 with bigger population:\n",
      "Users in variation 1: 4999401 or 49.99401%\n",
      "Users in variation 2: 5000598 or 50.00598000000001%\n",
      "SHA256 with bigger population:\n",
      "Users in variation 1: 4999452 or 49.994519999999994%\n",
      "Users in variation 2: 5000547 or 50.005469999999995%\n"
     ]
    }
   ],
   "source": [
    "print(\"MD5 with bigger population:\")\n",
    "check_repartition(expA, 10000000)\n",
    "\n",
    "print(\"SHA256 with bigger population:\")\n",
    "check_repartition(expB, 10000000)"
   ]
  },
  {
   "cell_type": "code",
   "execution_count": 9,
   "metadata": {},
   "outputs": [],
   "source": [
    "def check_correlation(experimentA: Experiment, experimentB: Experiment, population: int):\n",
    "    usersA1 = []\n",
    "\n",
    "    varB1 = 0\n",
    "    varB2 = 0\n",
    "\n",
    "    for i in range(1, population):\n",
    "        user = User(i)\n",
    "        var = experimentA.assign(user)\n",
    "        if var.name == \"variation1\":\n",
    "            usersA1.append(user)\n",
    "\n",
    "    for user in usersA1:\n",
    "        var = experimentB.assign(user)\n",
    "        if var.name == \"variation1\":\n",
    "            varB1 += 1\n",
    "        else:\n",
    "            varB2 += 1\n",
    "\n",
    "    print(f\"Users in variation B1: {varB1} or {varB1 / len(usersA1) * 100}% of people in var A1, and {varB1 / population * 100}% ot total population\")\n",
    "    print(f\"Users in variation B2: {varB2} or {varB2 / len(usersA1) * 100}% of people in var A1, and {varB2 / population * 100}% ot total population\")\n"
   ]
  },
  {
   "cell_type": "code",
   "execution_count": 10,
   "metadata": {},
   "outputs": [
    {
     "name": "stdout",
     "output_type": "stream",
     "text": [
      "Users in variation B1: 249927 or 49.99269893404437% of people in var A1, and 24.9927% ot total population\n",
      "Users in variation B2: 250000 or 50.00730106595563% of people in var A1, and 25.0% ot total population\n"
     ]
    }
   ],
   "source": [
    "expA_md5 = init_experiment(Md5Hasher())\n",
    "expB_md5 = init_experiment(Md5Hasher())\n",
    "check_correlation(expA_md5, expB_md5, 1000000)"
   ]
  },
  {
   "cell_type": "code",
   "execution_count": 12,
   "metadata": {},
   "outputs": [
    {
     "name": "stdout",
     "output_type": "stream",
     "text": [
      "Users in variation B1: 250083 or 50.08220769207662% of people in var A1, and 25.0083% ot total population\n",
      "Users in variation B2: 249262 or 49.91779230792338% of people in var A1, and 24.9262% ot total population\n"
     ]
    }
   ],
   "source": [
    "expA_sha256 = init_experiment(Sha256Hasher())\n",
    "expB_sha256 = init_experiment(Sha256Hasher())\n",
    "check_correlation(expA_sha256, expB_sha256, 1000000)"
   ]
  },
  {
   "cell_type": "code",
   "execution_count": null,
   "metadata": {},
   "outputs": [],
   "source": []
  }
 ],
 "metadata": {
  "kernelspec": {
   "display_name": "Python 3",
   "language": "python",
   "name": "python3"
  }
 },
 "nbformat": 4,
 "nbformat_minor": 2
}
