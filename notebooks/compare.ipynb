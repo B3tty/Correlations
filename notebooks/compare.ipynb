{
 "cells": [
  {
   "cell_type": "code",
   "execution_count": 1,
   "metadata": {},
   "outputs": [],
   "source": [
    "from ab_test.user import User\n",
    "from ab_test.experiment import *\n",
    "from ab_test.hasher_implems import *\n",
    "\n",
    "\n",
    "def check_repartition(experiment: Experiment, population: int):\n",
    "    var1 = 0\n",
    "    var2 = 0\n",
    "\n",
    "    for i in range(1, population):\n",
    "        user = User(i)\n",
    "        var = experiment.assign(user)\n",
    "        if var.name == \"variation1\":\n",
    "            var1 += 1\n",
    "        else:\n",
    "            var2 += 1\n",
    "    print(f\"Users in variation 1: {var1} or {var1 / population * 100}%\")\n",
    "    print(f\"Users in variation 2: {var2} or {var2 / population * 100}%\")\n"
   ]
  },
  {
   "cell_type": "code",
   "execution_count": 2,
   "metadata": {},
   "outputs": [
    {
     "data": {
      "text/plain": [
       "<ab_test.hasher_implems.Md5Hasher at 0x106d3bbe0>"
      ]
     },
     "execution_count": 2,
     "metadata": {},
     "output_type": "execute_result"
    }
   ],
   "source": [
    "Md5Hasher()"
   ]
  },
  {
   "cell_type": "code",
   "execution_count": 3,
   "metadata": {},
   "outputs": [
    {
     "name": "stdout",
     "output_type": "stream",
     "text": [
      "Users in variation 1: 4936 or 49.36%\n",
      "Users in variation 2: 5063 or 50.629999999999995%\n"
     ]
    }
   ],
   "source": [
    "expA = Experiment(hasher=Md5Hasher())\n",
    "check_repartition(expA, 10000)"
   ]
  },
  {
   "cell_type": "code",
   "execution_count": 4,
   "metadata": {},
   "outputs": [
    {
     "name": "stdout",
     "output_type": "stream",
     "text": [
      "Users in variation 1: 5023 or 50.23%\n",
      "Users in variation 2: 4976 or 49.76%\n"
     ]
    }
   ],
   "source": [
    "expB = Experiment(Sha256Hasher())\n",
    "check_repartition(expB, 10000)"
   ]
  },
  {
   "cell_type": "code",
   "execution_count": 5,
   "metadata": {},
   "outputs": [
    {
     "name": "stdout",
     "output_type": "stream",
     "text": [
      "MD5 with bigger population:\n",
      "Users in variation 1: 4998670 or 49.9867%\n",
      "Users in variation 2: 5001329 or 50.01329%\n",
      "SHA256 with bigger population:\n",
      "Users in variation 1: 4999444 or 49.994440000000004%\n",
      "Users in variation 2: 5000555 or 50.00555%\n"
     ]
    }
   ],
   "source": [
    "print(\"MD5 with bigger population:\")\n",
    "check_repartition(expA, 10000000)\n",
    "\n",
    "print(\"SHA256 with bigger population:\")\n",
    "check_repartition(expB, 10000000)"
   ]
  },
  {
   "cell_type": "code",
   "execution_count": 6,
   "metadata": {},
   "outputs": [],
   "source": [
    "def check_correlation(experimentA: Experiment, experimentB: Experiment, population: int):\n",
    "    usersA1 = []\n",
    "\n",
    "    varB1 = 0\n",
    "    varB2 = 0\n",
    "\n",
    "    for i in range(1, population):\n",
    "        user = User(i)\n",
    "        var = experimentA.assign(user)\n",
    "        if var.name == \"variation1\":\n",
    "            usersA1.append(user)\n",
    "\n",
    "    for user in usersA1:\n",
    "        var = experimentB.assign(user)\n",
    "        if var.name == \"variation1\":\n",
    "            varB1 += 1\n",
    "        else:\n",
    "            varB2 += 1\n",
    "\n",
    "    print(f\"Users in variation B1: {varB1} or {varB1 / len(usersA1) * 100}% of people in var A1, and {varB1 / population * 100}% ot total population\")\n",
    "    print(f\"Users in variation B2: {varB2} or {varB2 / len(usersA1) * 100}% of people in var A1, and {varB2 / population * 100}% ot total population\")\n"
   ]
  },
  {
   "cell_type": "code",
   "execution_count": 7,
   "metadata": {},
   "outputs": [
    {
     "name": "stdout",
     "output_type": "stream",
     "text": [
      "Users in variation B1: 249791 or 50.02182776491697% of people in var A1, and 24.979100000000003% ot total population\n",
      "Users in variation B2: 249573 or 49.97817223508302% of people in var A1, and 24.9573% ot total population\n"
     ]
    }
   ],
   "source": [
    "expA_md5 = Experiment(Md5Hasher())\n",
    "expB_md5 = Experiment(Md5Hasher())\n",
    "check_correlation(expA_md5, expB_md5, 1000000)"
   ]
  },
  {
   "cell_type": "code",
   "execution_count": 8,
   "metadata": {},
   "outputs": [
    {
     "name": "stdout",
     "output_type": "stream",
     "text": [
      "Users in variation B1: 250140 or 50.00239877182883% of people in var A1, and 25.013999999999996% ot total population\n",
      "Users in variation B2: 250116 or 49.99760122817118% of people in var A1, and 25.0116% ot total population\n"
     ]
    }
   ],
   "source": [
    "expA_sha256 = Experiment(Sha256Hasher())\n",
    "expB_sha256 = Experiment(Sha256Hasher())\n",
    "check_correlation(expA_sha256, expB_sha256, 1000000)"
   ]
  },
  {
   "cell_type": "code",
   "execution_count": null,
   "metadata": {},
   "outputs": [],
   "source": []
  }
 ],
 "metadata": {
  "kernelspec": {
   "display_name": "Python 3",
   "language": "python",
   "name": "python3"
  },
  "language_info": {
   "codemirror_mode": {
    "name": "ipython",
    "version": 3
   },
   "file_extension": ".py",
   "mimetype": "text/x-python",
   "name": "python",
   "nbconvert_exporter": "python",
   "pygments_lexer": "ipython3",
   "version": "3.7.3"
  }
 },
 "nbformat": 4,
 "nbformat_minor": 2
}
