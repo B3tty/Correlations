{
 "cells": [
  {
   "cell_type": "code",
   "execution_count": 3,
   "metadata": {},
   "outputs": [],
   "source": [
    "from ab_test.user import User\n",
    "from ab_test.experiment import *\n",
    "from ab_test.hasher_implems import *\n",
    "\n",
    "\n",
    "\n",
    "def init_experiment(hasher: Hasher):\n",
    "    exp = Experiment()\n",
    "    exp.hasher = hasher\n",
    "    return exp\n",
    "\n",
    "def check_repartition(experiment: Experiment, population: int):\n",
    "    var1 = 0\n",
    "    var2 = 0\n",
    "\n",
    "    for i in range(1, population):\n",
    "        user = User(i)\n",
    "        var = experiment.assign(user)\n",
    "        if var.name == \"variation1\":\n",
    "            var1 += 1\n",
    "        else:\n",
    "            var2 += 1\n",
    "    print(f\"Users in variation 1: {var1} or {var1 / population * 100}%\")\n",
    "    print(f\"Users in variation 2: {var2} or {var2 / population * 100}%\")\n"
   ]
  },
  {
   "cell_type": "code",
   "execution_count": 5,
   "metadata": {},
   "outputs": [
    {
     "data": {
      "text/plain": [
       "<ab_test.hasher_implems.Md5Hasher at 0x1078b0dd8>"
      ]
     },
     "execution_count": 5,
     "metadata": {},
     "output_type": "execute_result"
    }
   ],
   "source": [
    "Md5Hasher()"
   ]
  },
  {
   "cell_type": "code",
   "execution_count": 6,
   "metadata": {},
   "outputs": [
    {
     "ename": "TypeError",
     "evalue": "__init__() missing 1 required positional argument: 'hasher'",
     "output_type": "error",
     "traceback": [
      "\u001b[0;31m---------------------------------------------------------------------------\u001b[0m",
      "\u001b[0;31mTypeError\u001b[0m                                 Traceback (most recent call last)",
      "\u001b[0;32m<ipython-input-6-f2ed032cdffc>\u001b[0m in \u001b[0;36m<module>\u001b[0;34m\u001b[0m\n\u001b[0;32m----> 1\u001b[0;31m \u001b[0mexpA\u001b[0m \u001b[0;34m=\u001b[0m \u001b[0minit_experiment\u001b[0m\u001b[0;34m(\u001b[0m\u001b[0mhasher\u001b[0m\u001b[0;34m=\u001b[0m\u001b[0mMd5Hasher\u001b[0m\u001b[0;34m(\u001b[0m\u001b[0;34m)\u001b[0m\u001b[0;34m)\u001b[0m\u001b[0;34m\u001b[0m\u001b[0m\n\u001b[0m\u001b[1;32m      2\u001b[0m \u001b[0mcheck_repartition\u001b[0m\u001b[0;34m(\u001b[0m\u001b[0mexpA\u001b[0m\u001b[0;34m,\u001b[0m \u001b[0;36m10000\u001b[0m\u001b[0;34m)\u001b[0m\u001b[0;34m\u001b[0m\u001b[0m\n",
      "\u001b[0;32m<ipython-input-3-34c9ec5b1e45>\u001b[0m in \u001b[0;36minit_experiment\u001b[0;34m(hasher)\u001b[0m\n\u001b[1;32m      6\u001b[0m \u001b[0;34m\u001b[0m\u001b[0m\n\u001b[1;32m      7\u001b[0m \u001b[0;32mdef\u001b[0m \u001b[0minit_experiment\u001b[0m\u001b[0;34m(\u001b[0m\u001b[0mhasher\u001b[0m\u001b[0;34m:\u001b[0m \u001b[0mHasher\u001b[0m\u001b[0;34m)\u001b[0m\u001b[0;34m:\u001b[0m\u001b[0;34m\u001b[0m\u001b[0m\n\u001b[0;32m----> 8\u001b[0;31m     \u001b[0mexp\u001b[0m \u001b[0;34m=\u001b[0m \u001b[0mExperiment\u001b[0m\u001b[0;34m(\u001b[0m\u001b[0;34m)\u001b[0m\u001b[0;34m\u001b[0m\u001b[0m\n\u001b[0m\u001b[1;32m      9\u001b[0m     \u001b[0mexp\u001b[0m\u001b[0;34m.\u001b[0m\u001b[0mhasher\u001b[0m \u001b[0;34m=\u001b[0m \u001b[0mhasher\u001b[0m\u001b[0;34m\u001b[0m\u001b[0m\n\u001b[1;32m     10\u001b[0m     \u001b[0;32mreturn\u001b[0m \u001b[0mexp\u001b[0m\u001b[0;34m\u001b[0m\u001b[0m\n",
      "\u001b[0;31mTypeError\u001b[0m: __init__() missing 1 required positional argument: 'hasher'"
     ]
    }
   ],
   "source": [
    "expA = init_experiment(hasher=Md5Hasher())\n",
    "check_repartition(expA, 10000)"
   ]
  },
  {
   "cell_type": "code",
   "execution_count": null,
   "metadata": {},
   "outputs": [],
   "source": [
    "expB = init_experiment(Sha256Hasher())\n",
    "check_repartition(expB, 10000)"
   ]
  },
  {
   "cell_type": "code",
   "execution_count": null,
   "metadata": {},
   "outputs": [],
   "source": [
    "print(\"MD5 with bigger population:\")\n",
    "check_repartition(expA, 10000000)\n",
    "\n",
    "print(\"SHA256 with bigger population:\")\n",
    "check_repartition(expB, 10000000)"
   ]
  },
  {
   "cell_type": "code",
   "execution_count": null,
   "metadata": {},
   "outputs": [],
   "source": [
    "def check_correlation(experimentA: Experiment, experimentB: Experiment, population: int):\n",
    "    usersA1 = []\n",
    "\n",
    "    varB1 = 0\n",
    "    varB2 = 0\n",
    "\n",
    "    for i in range(1, population):\n",
    "        user = User(i)\n",
    "        var = experimentA.assign(user)\n",
    "        if var.name == \"variation1\":\n",
    "            usersA1.append(user)\n",
    "\n",
    "    for user in usersA1:\n",
    "        var = experimentB.assign(user)\n",
    "        if var.name == \"variation1\":\n",
    "            varB1 += 1\n",
    "        else:\n",
    "            varB2 += 1\n",
    "\n",
    "    print(f\"Users in variation B1: {varB1} or {varB1 / len(usersA1) * 100}% of people in var A1, and {varB1 / population * 100}% ot total population\")\n",
    "    print(f\"Users in variation B2: {varB2} or {varB2 / len(usersA1) * 100}% of people in var A1, and {varB2 / population * 100}% ot total population\")\n"
   ]
  },
  {
   "cell_type": "code",
   "execution_count": null,
   "metadata": {},
   "outputs": [],
   "source": [
    "expA_md5 = init_experiment(Md5Hasher())\n",
    "expB_md5 = init_experiment(Md5Hasher())\n",
    "check_correlation(expA_md5, expB_md5, 1000000)"
   ]
  },
  {
   "cell_type": "code",
   "execution_count": null,
   "metadata": {},
   "outputs": [],
   "source": [
    "expA_sha256 = init_experiment(Sha256Hasher())\n",
    "expB_sha256 = init_experiment(Sha256Hasher())\n",
    "check_correlation(expA_sha256, expB_sha256, 1000000)"
   ]
  },
  {
   "cell_type": "code",
   "execution_count": null,
   "metadata": {},
   "outputs": [],
   "source": []
  }
 ],
 "metadata": {
  "kernelspec": {
   "display_name": "Python 3",
   "language": "python",
   "name": "python3"
  },
  "language_info": {
   "codemirror_mode": {
    "name": "ipython",
    "version": 3
   },
   "file_extension": ".py",
   "mimetype": "text/x-python",
   "name": "python",
   "nbconvert_exporter": "python",
   "pygments_lexer": "ipython3",
   "version": "3.7.0"
  }
 },
 "nbformat": 4,
 "nbformat_minor": 2
}
