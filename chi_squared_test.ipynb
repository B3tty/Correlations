{
 "cells": [
  {
   "cell_type": "code",
   "execution_count": 1,
   "metadata": {},
   "outputs": [],
   "source": [
    "# data analysis and wrangling\n",
    "import pandas as pd\n",
    "import numpy as np\n",
    "import random as rnd\n",
    "from sklearn.preprocessing import StandardScaler\n",
    "import scipy.stats as st\n",
    "\n",
    "# visualization\n",
    "import seaborn as sns\n",
    "import matplotlib.pyplot as plt\n",
    "%matplotlib inline\n",
    "\n",
    "# tested lib\n",
    "from user import User\n",
    "from experiment import *\n",
    "from hasher_implems import *\n",
    "\n",
    "import time"
   ]
  },
  {
   "cell_type": "markdown",
   "metadata": {},
   "source": [
    "# Chi Squared Test\n",
    "\n",
    "We consider experiments with 2 variations of 50% each.\n",
    "\n",
    "## Definitions\n",
    "\n",
    "### Hypothesis\n",
    "\n",
    "* Experiment A has _r = 2_ levels (variation 1 and variation 2)\n",
    "* Experiment B has _c = 2_ levels (variation 1 and variation 2)\n",
    "\n",
    "The null hypothesis states that knowing the variation in experiment A does not help you predict the variation in experiment B.\n",
    "\n",
    "Ho: Variable A and Variable B are independent.\n",
    "\n",
    "Ha: Variable A and Variable B are not independent.\n",
    "\n",
    "### Degrees of Freedom\n",
    "\n",
    "`DF = (r - 1) * (c - 1) = 1`\n",
    "\n",
    "### Expected Frequencies\n",
    "\n",
    "The expected frequency counts are computed separately for each level of one categorical variable at each level of the other categorical variable. Compute r * c expected frequencies, according to the following formula.\n",
    "`Er,c = (nr * nc) / n`\n",
    "\n",
    "where Er,c is the expected frequency count for level r of Variable A and level c of Variable B, nr is the total number of sample observations at level r of Variable A, nc is the total number of sample observations at level c of Variable B, and n is the total sample size.\n",
    "\n",
    "For example, for a sample of 100 users, in a perfect case, we would have:\n",
    "\n",
    "`Er,c = (50*50) / 100 = 25`\n",
    "\n",
    "### Test Statistic\n",
    "\n",
    "The test statistic is a chi-square random variable (Χ2) defined by the following equation.\n",
    "`Χ2 = Σ [ (Or,c - Er,c)2 / Er,c ]`\n",
    "\n",
    "where Or,c is the observed frequency count at level r of Variable A and level c of Variable B, and Er,c is the expected frequency count at level r of Variable A and level c of Variable B.\n",
    "\n",
    "\n",
    "### P-value\n",
    "\n",
    "The P-value is the probability of observing a sample statistic as extreme as the test statistic.\n",
    "\n",
    "### Conclude\n",
    "\n",
    "* If observed chi-square < critical chi-square, then variables are not related.\n",
    "* If observed chi-square > critical chi-square, then variables are not independent (and hence may be related).\n",
    "\n",
    "For DF=1 and a precision of 5% (α=0.05), the critical chi-square is 3.841."
   ]
  },
  {
   "cell_type": "markdown",
   "metadata": {},
   "source": [
    "## Tools\n",
    "\n",
    "### Tool methods for chi squared test"
   ]
  },
  {
   "cell_type": "code",
   "execution_count": 2,
   "metadata": {},
   "outputs": [],
   "source": [
    "def expected(matrix, i, j):\n",
    "    return (matrix_bi[i][2])*(matrix_bi[2][j])/matrix_bi[2][2]\n",
    "\n",
    "def step(matrix, i, j):\n",
    "    exp = expected(matrix, i, j)\n",
    "    case = matrix[i][j]\n",
    "    #print(f\"step {i},{j}: case={case}, exp={exp}\")\n",
    "    return (case-exp) * (case-exp)/exp\n",
    "\n",
    "def statistic_test(matrix):\n",
    "    result = 0\n",
    "    for i in range(0, 2):\n",
    "        for j in range(0, 2):\n",
    "            result += step(matrix, i, j)\n",
    "    return result"
   ]
  },
  {
   "cell_type": "markdown",
   "metadata": {},
   "source": [
    "### Tool methods for data generation"
   ]
  },
  {
   "cell_type": "code",
   "execution_count": 3,
   "metadata": {},
   "outputs": [],
   "source": [
    "def gen_data(hasher: Hasher, population, *args):\n",
    "    \n",
    "    header = [\"/\", \"ExpA:Var1\", \"ExpA:Var2\", \"Sum\"]\n",
    "    data = []\n",
    "    if (args):\n",
    "        i = args[0]\n",
    "        expA = Experiment(hasher, 2*i)\n",
    "        expB = Experiment(hasher, 2*i +1)\n",
    "    else:\n",
    "        expA = Experiment(hasher)\n",
    "        expB = Experiment(hasher)\n",
    "    \n",
    "    varA1B1 = 0\n",
    "    varA1B2 = 0\n",
    "    varA2B1 = 0\n",
    "    varA2B2 = 0\n",
    "    \n",
    "    for i in range(1, population+1):\n",
    "        user = User(i)\n",
    "        varA = expA.assign(user)\n",
    "        varB = expB.assign(user)\n",
    "        \n",
    "        if varA.name == \"variation1\":\n",
    "            if varB.name == \"variation1\":\n",
    "                varA1B1 += 1\n",
    "            else:\n",
    "                varA1B2 += 1\n",
    "        else:\n",
    "            if varB.name == \"variation1\":\n",
    "                varA2B1 += 1\n",
    "            else:\n",
    "                varA2B2 += 1\n",
    "        \n",
    "    df = pd.DataFrame(np.array([[\"ExpB:Var1\", varA1B1,           varA2B1,       varA1B1+varA2B1],\n",
    "                                [\"ExpB:Var2\", varA1B2,           varA2B2,       varA1B2+varA2B2],\n",
    "                                [\"Sum\",       varA1B1+varA1B2, varA2B1+varA2B2, varA1B1+varA2B1+varA1B2+varA2B2]]),\n",
    "                      columns=header)\n",
    "    \n",
    "    df = pd.concat([df[\"/\"],\n",
    "                    pd.to_numeric(df[\"ExpA:Var1\"]),\n",
    "                    pd.to_numeric(df[\"ExpA:Var2\"]),\n",
    "                    pd.to_numeric(df[\"Sum\"])],\n",
    "                    axis = 1)\n",
    "    \n",
    "    matrix = [[varA1B1,         varA2B1,         varA1B1+varA2B1],\n",
    "              [varA1B2,         varA2B2,         varA1B2+varA2B2],\n",
    "              [varA1B1+varA1B2, varA2B1+varA2B2, varA1B1+varA2B1+varA1B2+varA2B2]]\n",
    "    return df, matrix"
   ]
  },
  {
   "cell_type": "markdown",
   "metadata": {},
   "source": [
    "### Test definitions"
   ]
  },
  {
   "cell_type": "code",
   "execution_count": 4,
   "metadata": {},
   "outputs": [],
   "source": [
    "population = 1000\n",
    "nb_exp = 1000"
   ]
  },
  {
   "cell_type": "markdown",
   "metadata": {},
   "source": [
    "## Built-In Hash Method\n",
    "\n",
    "### Data Generation"
   ]
  },
  {
   "cell_type": "code",
   "execution_count": 5,
   "metadata": {},
   "outputs": [
    {
     "data": {
      "text/html": [
       "<div>\n",
       "<style scoped>\n",
       "    .dataframe tbody tr th:only-of-type {\n",
       "        vertical-align: middle;\n",
       "    }\n",
       "\n",
       "    .dataframe tbody tr th {\n",
       "        vertical-align: top;\n",
       "    }\n",
       "\n",
       "    .dataframe thead th {\n",
       "        text-align: right;\n",
       "    }\n",
       "</style>\n",
       "<table border=\"1\" class=\"dataframe\">\n",
       "  <thead>\n",
       "    <tr style=\"text-align: right;\">\n",
       "      <th></th>\n",
       "      <th>/</th>\n",
       "      <th>ExpA:Var1</th>\n",
       "      <th>ExpA:Var2</th>\n",
       "      <th>Sum</th>\n",
       "    </tr>\n",
       "  </thead>\n",
       "  <tbody>\n",
       "    <tr>\n",
       "      <th>0</th>\n",
       "      <td>ExpB:Var1</td>\n",
       "      <td>260</td>\n",
       "      <td>264</td>\n",
       "      <td>524</td>\n",
       "    </tr>\n",
       "    <tr>\n",
       "      <th>1</th>\n",
       "      <td>ExpB:Var2</td>\n",
       "      <td>223</td>\n",
       "      <td>253</td>\n",
       "      <td>476</td>\n",
       "    </tr>\n",
       "    <tr>\n",
       "      <th>2</th>\n",
       "      <td>Sum</td>\n",
       "      <td>483</td>\n",
       "      <td>517</td>\n",
       "      <td>1000</td>\n",
       "    </tr>\n",
       "  </tbody>\n",
       "</table>\n",
       "</div>"
      ],
      "text/plain": [
       "           /  ExpA:Var1  ExpA:Var2   Sum\n",
       "0  ExpB:Var1        260        264   524\n",
       "1  ExpB:Var2        223        253   476\n",
       "2        Sum        483        517  1000"
      ]
     },
     "execution_count": 5,
     "metadata": {},
     "output_type": "execute_result"
    }
   ],
   "source": [
    "# Built-In Hash\n",
    "\n",
    "df_bi, matrix_bi = gen_data(BuiltInHasher(), population)\n",
    "\n",
    "df_bi"
   ]
  },
  {
   "cell_type": "markdown",
   "metadata": {},
   "source": [
    "### Test Statistic"
   ]
  },
  {
   "cell_type": "code",
   "execution_count": 6,
   "metadata": {},
   "outputs": [
    {
     "data": {
      "text/plain": [
       "0.7661763535307267"
      ]
     },
     "execution_count": 6,
     "metadata": {},
     "output_type": "execute_result"
    }
   ],
   "source": [
    "statistic_test(matrix_bi)"
   ]
  },
  {
   "cell_type": "markdown",
   "metadata": {},
   "source": [
    "### Bigger scale test"
   ]
  },
  {
   "cell_type": "code",
   "execution_count": 7,
   "metadata": {},
   "outputs": [
    {
     "name": "stdout",
     "output_type": "stream",
     "text": [
      "5.317546844482422s\n"
     ]
    }
   ],
   "source": [
    "begin = time.time()\n",
    "stat_tests_bi = []\n",
    "\n",
    "for i in range(0, nb_exp):\n",
    "  df_bi, matrix_bi = gen_data(BuiltInHasher(), population, i)\n",
    "  stat_tests_bi.append(statistic_test(matrix_bi))\n",
    "print(f\"{time.time() - begin}s\")\n"
   ]
  },
  {
   "cell_type": "code",
   "execution_count": 8,
   "metadata": {},
   "outputs": [
    {
     "name": "stdout",
     "output_type": "stream",
     "text": [
      "median: 0.47808088521624836\n",
      "mean: 1.0708327218981721\n",
      "std deviation: 1.5297446361379918\n"
     ]
    }
   ],
   "source": [
    "print(f\"median: {np.median(stat_tests_bi)}\")\n",
    "print(f\"mean: {np.mean(stat_tests_bi)}\")\n",
    "print(f\"std deviation: {np.std(stat_tests_bi)}\")"
   ]
  },
  {
   "cell_type": "markdown",
   "metadata": {},
   "source": [
    "### Conclusion\n",
    "\n",
    "We can accept the null hypothesis (assignations of experiments A and B are independant) if the median above is inferior to the critical value 3.84."
   ]
  },
  {
   "cell_type": "markdown",
   "metadata": {},
   "source": [
    "## MD5\n",
    "\n",
    "### Data Generation"
   ]
  },
  {
   "cell_type": "code",
   "execution_count": 9,
   "metadata": {
    "scrolled": true
   },
   "outputs": [
    {
     "data": {
      "text/html": [
       "<div>\n",
       "<style scoped>\n",
       "    .dataframe tbody tr th:only-of-type {\n",
       "        vertical-align: middle;\n",
       "    }\n",
       "\n",
       "    .dataframe tbody tr th {\n",
       "        vertical-align: top;\n",
       "    }\n",
       "\n",
       "    .dataframe thead th {\n",
       "        text-align: right;\n",
       "    }\n",
       "</style>\n",
       "<table border=\"1\" class=\"dataframe\">\n",
       "  <thead>\n",
       "    <tr style=\"text-align: right;\">\n",
       "      <th></th>\n",
       "      <th>/</th>\n",
       "      <th>ExpA:Var1</th>\n",
       "      <th>ExpA:Var2</th>\n",
       "      <th>Sum</th>\n",
       "    </tr>\n",
       "  </thead>\n",
       "  <tbody>\n",
       "    <tr>\n",
       "      <th>0</th>\n",
       "      <td>ExpB:Var1</td>\n",
       "      <td>240</td>\n",
       "      <td>268</td>\n",
       "      <td>508</td>\n",
       "    </tr>\n",
       "    <tr>\n",
       "      <th>1</th>\n",
       "      <td>ExpB:Var2</td>\n",
       "      <td>249</td>\n",
       "      <td>243</td>\n",
       "      <td>492</td>\n",
       "    </tr>\n",
       "    <tr>\n",
       "      <th>2</th>\n",
       "      <td>Sum</td>\n",
       "      <td>489</td>\n",
       "      <td>511</td>\n",
       "      <td>1000</td>\n",
       "    </tr>\n",
       "  </tbody>\n",
       "</table>\n",
       "</div>"
      ],
      "text/plain": [
       "           /  ExpA:Var1  ExpA:Var2   Sum\n",
       "0  ExpB:Var1        240        268   508\n",
       "1  ExpB:Var2        249        243   492\n",
       "2        Sum        489        511  1000"
      ]
     },
     "execution_count": 9,
     "metadata": {},
     "output_type": "execute_result"
    }
   ],
   "source": [
    "df_md5, matrix_md5 = gen_data(Md5Hasher(), population)\n",
    "\n",
    "df_md5"
   ]
  },
  {
   "cell_type": "markdown",
   "metadata": {},
   "source": [
    "### Chi Squared Test"
   ]
  },
  {
   "cell_type": "code",
   "execution_count": 10,
   "metadata": {
    "scrolled": false
   },
   "outputs": [
    {
     "data": {
      "text/plain": [
       "1.7687653208839074"
      ]
     },
     "execution_count": 10,
     "metadata": {},
     "output_type": "execute_result"
    }
   ],
   "source": [
    "statistic_test(matrix_md5)"
   ]
  },
  {
   "cell_type": "markdown",
   "metadata": {},
   "source": [
    "### Bigger scale test"
   ]
  },
  {
   "cell_type": "code",
   "execution_count": 11,
   "metadata": {},
   "outputs": [
    {
     "name": "stdout",
     "output_type": "stream",
     "text": [
      "12.799982786178589s\n"
     ]
    }
   ],
   "source": [
    "begin = time.time()\n",
    "stat_tests_md5 = []\n",
    "\n",
    "for i in range(0, nb_exp):\n",
    "  df_md5, matrix_md5 = gen_data(Md5Hasher(), population)\n",
    "  stat_tests_md5.append(statistic_test(matrix_md5))\n",
    "print(f\"{time.time() - begin}s\")\n"
   ]
  },
  {
   "cell_type": "code",
   "execution_count": 12,
   "metadata": {},
   "outputs": [
    {
     "name": "stdout",
     "output_type": "stream",
     "text": [
      "median: 3.600366111682077\n",
      "mean: 4.420452708895606\n",
      "std deviation: 3.4571636860796544\n"
     ]
    }
   ],
   "source": [
    "print(f\"median: {np.median(stat_tests_md5)}\")\n",
    "print(f\"mean: {np.mean(stat_tests_md5)}\")\n",
    "print(f\"std deviation: {np.std(stat_tests_md5)}\")"
   ]
  },
  {
   "cell_type": "markdown",
   "metadata": {},
   "source": [
    "### Conclusion\n",
    "\n",
    "We can accept the null hypothesis (assignations of experiments A and B are independant) if the median above is inferior to the critical value 3.84."
   ]
  },
  {
   "cell_type": "markdown",
   "metadata": {},
   "source": [
    "## Sha256\n",
    "\n",
    "### Data Generation"
   ]
  },
  {
   "cell_type": "code",
   "execution_count": 13,
   "metadata": {
    "scrolled": false
   },
   "outputs": [
    {
     "data": {
      "text/html": [
       "<div>\n",
       "<style scoped>\n",
       "    .dataframe tbody tr th:only-of-type {\n",
       "        vertical-align: middle;\n",
       "    }\n",
       "\n",
       "    .dataframe tbody tr th {\n",
       "        vertical-align: top;\n",
       "    }\n",
       "\n",
       "    .dataframe thead th {\n",
       "        text-align: right;\n",
       "    }\n",
       "</style>\n",
       "<table border=\"1\" class=\"dataframe\">\n",
       "  <thead>\n",
       "    <tr style=\"text-align: right;\">\n",
       "      <th></th>\n",
       "      <th>/</th>\n",
       "      <th>ExpA:Var1</th>\n",
       "      <th>ExpA:Var2</th>\n",
       "      <th>Sum</th>\n",
       "    </tr>\n",
       "  </thead>\n",
       "  <tbody>\n",
       "    <tr>\n",
       "      <th>0</th>\n",
       "      <td>ExpB:Var1</td>\n",
       "      <td>256</td>\n",
       "      <td>271</td>\n",
       "      <td>527</td>\n",
       "    </tr>\n",
       "    <tr>\n",
       "      <th>1</th>\n",
       "      <td>ExpB:Var2</td>\n",
       "      <td>223</td>\n",
       "      <td>250</td>\n",
       "      <td>473</td>\n",
       "    </tr>\n",
       "    <tr>\n",
       "      <th>2</th>\n",
       "      <td>Sum</td>\n",
       "      <td>479</td>\n",
       "      <td>521</td>\n",
       "      <td>1000</td>\n",
       "    </tr>\n",
       "  </tbody>\n",
       "</table>\n",
       "</div>"
      ],
      "text/plain": [
       "           /  ExpA:Var1  ExpA:Var2   Sum\n",
       "0  ExpB:Var1        256        271   527\n",
       "1  ExpB:Var2        223        250   473\n",
       "2        Sum        479        521  1000"
      ]
     },
     "execution_count": 13,
     "metadata": {},
     "output_type": "execute_result"
    }
   ],
   "source": [
    "df_sha, matrix_sha = gen_data(Sha256Hasher(), population)\n",
    "\n",
    "df_sha"
   ]
  },
  {
   "cell_type": "markdown",
   "metadata": {},
   "source": [
    "### Chi Squared Test"
   ]
  },
  {
   "cell_type": "code",
   "execution_count": 14,
   "metadata": {
    "scrolled": false
   },
   "outputs": [
    {
     "data": {
      "text/plain": [
       "1.8062189193295999"
      ]
     },
     "execution_count": 14,
     "metadata": {},
     "output_type": "execute_result"
    }
   ],
   "source": [
    "statistic_test(matrix_sha)"
   ]
  },
  {
   "cell_type": "markdown",
   "metadata": {},
   "source": [
    "### Bigger scale test"
   ]
  },
  {
   "cell_type": "code",
   "execution_count": 15,
   "metadata": {},
   "outputs": [
    {
     "name": "stdout",
     "output_type": "stream",
     "text": [
      "15.060874938964844s\n"
     ]
    }
   ],
   "source": [
    "begin = time.time()\n",
    "stat_tests_sha = []\n",
    "\n",
    "for i in range(0, nb_exp):\n",
    "  df_sha, matrix_sha = gen_data(Sha256Hasher(), population)\n",
    "  stat_tests_sha.append(statistic_test(matrix_sha))\n",
    "print(f\"{time.time() - begin}s\")\n"
   ]
  },
  {
   "cell_type": "code",
   "execution_count": 16,
   "metadata": {},
   "outputs": [
    {
     "name": "stdout",
     "output_type": "stream",
     "text": [
      "median: 3.370178456464969\n",
      "mean: 4.321348647773991\n",
      "std deviation: 3.394073204236882\n"
     ]
    }
   ],
   "source": [
    "print(f\"median: {np.median(stat_tests_sha)}\")\n",
    "print(f\"mean: {np.mean(stat_tests_sha)}\")\n",
    "print(f\"std deviation: {np.std(stat_tests_sha)}\")"
   ]
  },
  {
   "cell_type": "markdown",
   "metadata": {},
   "source": [
    "### Conclusion\n",
    "\n",
    "We can accept the null hypothesis (assignations of experiments A and B are independant) if the median above is inferior to the critical value 3.84."
   ]
  }
 ],
 "metadata": {
  "kernelspec": {
   "display_name": "Python 3",
   "language": "python",
   "name": "python3"
  },
  "language_info": {
   "codemirror_mode": {
    "name": "ipython",
    "version": 3
   },
   "file_extension": ".py",
   "mimetype": "text/x-python",
   "name": "python",
   "nbconvert_exporter": "python",
   "pygments_lexer": "ipython3",
   "version": "3.7.3"
  }
 },
 "nbformat": 4,
 "nbformat_minor": 2
}
