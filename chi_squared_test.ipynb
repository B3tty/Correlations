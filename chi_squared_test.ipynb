{
 "cells": [
  {
   "cell_type": "code",
   "execution_count": 1,
   "metadata": {},
   "outputs": [],
   "source": [
    "# data analysis and wrangling\n",
    "import pandas as pd\n",
    "import numpy as np\n",
    "import random as rnd\n",
    "from sklearn.preprocessing import StandardScaler\n",
    "import scipy.stats as st\n",
    "\n",
    "# visualization\n",
    "import seaborn as sns\n",
    "import matplotlib.pyplot as plt\n",
    "%matplotlib inline\n",
    "\n",
    "# tested lib\n",
    "from user import User\n",
    "from experiment import *\n",
    "from hasher_implems import *"
   ]
  },
  {
   "cell_type": "markdown",
   "metadata": {},
   "source": [
    "# Chi Squared Test\n",
    "\n",
    "We consider experiments with 2 variations of 50% each.\n",
    "\n",
    "## Hypothesis\n",
    "\n",
    "* Experiment A has _r = 2_ levels (variation 1 and variation 2)\n",
    "* Experiment B has _c = 2_ levels (variation 1 and variation 2)\n",
    "\n",
    "The null hypothesis states that knowing the variation in experiment A does not help you predict the variation in experiment B.\n",
    "\n",
    "Ho: Variable A and Variable B are independent.\n",
    "\n",
    "Ha: Variable A and Variable B are not independent.\n",
    "\n",
    "## Degrees of Freedom\n",
    "\n",
    "`DF = (r - 1) * (c - 1) = 1`\n",
    "\n",
    "## Expected Frequencies\n",
    "\n",
    "The expected frequency counts are computed separately for each level of one categorical variable at each level of the other categorical variable. Compute r * c expected frequencies, according to the following formula.\n",
    "`Er,c = (nr * nc) / n`\n",
    "\n",
    "where Er,c is the expected frequency count for level r of Variable A and level c of Variable B, nr is the total number of sample observations at level r of Variable A, nc is the total number of sample observations at level c of Variable B, and n is the total sample size.\n",
    "\n",
    "For example, for a sample of 100 users, in a perfect case, we would have:\n",
    "\n",
    "`Er,c = (50*50) / 100 = 25`\n",
    "\n",
    "## Test Statistic\n",
    "\n",
    "The test statistic is a chi-square random variable (Χ2) defined by the following equation.\n",
    "`Χ2 = Σ [ (Or,c - Er,c)2 / Er,c ]`\n",
    "\n",
    "where Or,c is the observed frequency count at level r of Variable A and level c of Variable B, and Er,c is the expected frequency count at level r of Variable A and level c of Variable B.\n",
    "\n",
    "\n",
    "## P-value\n",
    "\n",
    "The P-value is the probability of observing a sample statistic as extreme as the test statistic.\n",
    "\n",
    "## Conclude\n",
    "\n",
    "* If observed chi-square < critical chi-square, then variables are not related.\n",
    "* If observed chi-square > critical chi-square, then variables are not independent (and hence may be related).\n",
    "\n",
    "For DF=1 and a precision of 5% (α=0.05), the critical chi-square is 3.841."
   ]
  },
  {
   "cell_type": "code",
   "execution_count": 2,
   "metadata": {},
   "outputs": [],
   "source": [
    "# Tool methods for chi squared test\n",
    "\n",
    "def expected(matrix, i, j):\n",
    "    return (matrix_bi[i][2])*(matrix_bi[2][j])/matrix_bi[2][2]\n",
    "\n",
    "def step(matrix, i, j):\n",
    "    exp = expected(matrix, i, j)\n",
    "    case = matrix[i][j]\n",
    "    print(f\"step {i},{j}: case={case}, exp={exp}\")\n",
    "    return (case-exp) * (case-exp)/exp\n",
    "\n",
    "def statistic_test(matrix):\n",
    "    result = 0\n",
    "    for i in range(0, 2):\n",
    "        for j in range(0, 2):\n",
    "            result += step(matrix, i, j)\n",
    "    return result\n",
    "\n",
    "population = 10000000"
   ]
  },
  {
   "cell_type": "code",
   "execution_count": 3,
   "metadata": {},
   "outputs": [],
   "source": [
    "# Generation of data\n",
    "\n",
    "def gen_data(hasher: Hasher, population):\n",
    "    \n",
    "    header = [\"/\", \"ExpA:Var1\", \"ExpA:Var2\", \"Sum\"]\n",
    "    data = []\n",
    "    \n",
    "    expA = Experiment(hasher)\n",
    "    expB = Experiment(hasher)\n",
    "    \n",
    "    varA1B1 = 0\n",
    "    varA1B2 = 0\n",
    "    varA2B1 = 0\n",
    "    varA2B2 = 0\n",
    "    \n",
    "    for i in range(1, population+1):\n",
    "        user = User(i)\n",
    "        varA = expA.assign(user)\n",
    "        varB = expB.assign(user)\n",
    "        \n",
    "        if varA.name == \"variation1\":\n",
    "            if varB.name == \"variation1\":\n",
    "                varA1B1 += 1\n",
    "            else:\n",
    "                varA1B2 += 1\n",
    "        else:\n",
    "            if varB.name == \"variation1\":\n",
    "                varA2B1 += 1\n",
    "            else:\n",
    "                varA2B2 += 1\n",
    "        \n",
    "    df = pd.DataFrame(np.array([[\"ExpB:Var1\", varA1B1,           varA2B1,       varA1B1+varA2B1],\n",
    "                                [\"ExpB:Var2\", varA1B2,           varA2B2,       varA1B2+varA2B2],\n",
    "                                [\"Sum\",       varA1B1+varA1B2, varA2B1+varA2B2, varA1B1+varA2B1+varA1B2+varA2B2]]),\n",
    "                      columns=header)\n",
    "    \n",
    "    df = pd.concat([df[\"/\"],\n",
    "                    pd.to_numeric(df[\"ExpA:Var1\"]),\n",
    "                    pd.to_numeric(df[\"ExpA:Var2\"]),\n",
    "                    pd.to_numeric(df[\"Sum\"])],\n",
    "                    axis = 1)\n",
    "    \n",
    "    matrix = [[varA1B1,         varA2B1,         varA1B1+varA2B1],\n",
    "              [varA1B2,         varA2B2,         varA1B2+varA2B2],\n",
    "              [varA1B1+varA1B2, varA2B1+varA2B2, varA1B1+varA2B1+varA1B2+varA2B2]]\n",
    "    return df, matrix"
   ]
  },
  {
   "cell_type": "markdown",
   "metadata": {},
   "source": [
    "## Built-In Hash Method\n",
    "\n",
    "### Data Generation"
   ]
  },
  {
   "cell_type": "code",
   "execution_count": 4,
   "metadata": {},
   "outputs": [
    {
     "data": {
      "text/html": [
       "<div>\n",
       "<style scoped>\n",
       "    .dataframe tbody tr th:only-of-type {\n",
       "        vertical-align: middle;\n",
       "    }\n",
       "\n",
       "    .dataframe tbody tr th {\n",
       "        vertical-align: top;\n",
       "    }\n",
       "\n",
       "    .dataframe thead th {\n",
       "        text-align: right;\n",
       "    }\n",
       "</style>\n",
       "<table border=\"1\" class=\"dataframe\">\n",
       "  <thead>\n",
       "    <tr style=\"text-align: right;\">\n",
       "      <th></th>\n",
       "      <th>/</th>\n",
       "      <th>ExpA:Var1</th>\n",
       "      <th>ExpA:Var2</th>\n",
       "      <th>Sum</th>\n",
       "    </tr>\n",
       "  </thead>\n",
       "  <tbody>\n",
       "    <tr>\n",
       "      <th>0</th>\n",
       "      <td>ExpB:Var1</td>\n",
       "      <td>2499532</td>\n",
       "      <td>2500388</td>\n",
       "      <td>4999920</td>\n",
       "    </tr>\n",
       "    <tr>\n",
       "      <th>1</th>\n",
       "      <td>ExpB:Var2</td>\n",
       "      <td>2501092</td>\n",
       "      <td>2498988</td>\n",
       "      <td>5000080</td>\n",
       "    </tr>\n",
       "    <tr>\n",
       "      <th>2</th>\n",
       "      <td>Sum</td>\n",
       "      <td>5000624</td>\n",
       "      <td>4999376</td>\n",
       "      <td>10000000</td>\n",
       "    </tr>\n",
       "  </tbody>\n",
       "</table>\n",
       "</div>"
      ],
      "text/plain": [
       "           /  ExpA:Var1  ExpA:Var2       Sum\n",
       "0  ExpB:Var1    2499532    2500388   4999920\n",
       "1  ExpB:Var2    2501092    2498988   5000080\n",
       "2        Sum    5000624    4999376  10000000"
      ]
     },
     "execution_count": 4,
     "metadata": {},
     "output_type": "execute_result"
    }
   ],
   "source": [
    "# Built-In Hash\n",
    "\n",
    "df_bi, matrix_bi = gen_data(BuiltInHasher(), population)\n",
    "\n",
    "df_bi"
   ]
  },
  {
   "cell_type": "markdown",
   "metadata": {},
   "source": [
    "### Test Statistic"
   ]
  },
  {
   "cell_type": "code",
   "execution_count": 5,
   "metadata": {},
   "outputs": [
    {
     "name": "stdout",
     "output_type": "stream",
     "text": [
      "step 0,0: case=2499532, exp=2500271.995008\n",
      "step 0,1: case=2500388, exp=2499648.004992\n",
      "step 1,0: case=2501092, exp=2500352.004992\n",
      "step 1,1: case=2498988, exp=2499727.995008\n"
     ]
    },
    {
     "data": {
      "text/plain": [
       "0.8761481928546181"
      ]
     },
     "execution_count": 5,
     "metadata": {},
     "output_type": "execute_result"
    }
   ],
   "source": [
    "statistic_test(matrix_bi)"
   ]
  },
  {
   "cell_type": "markdown",
   "metadata": {},
   "source": [
    "## MD5\n",
    "\n",
    "### Data Generation"
   ]
  },
  {
   "cell_type": "code",
   "execution_count": 6,
   "metadata": {
    "scrolled": true
   },
   "outputs": [
    {
     "data": {
      "text/html": [
       "<div>\n",
       "<style scoped>\n",
       "    .dataframe tbody tr th:only-of-type {\n",
       "        vertical-align: middle;\n",
       "    }\n",
       "\n",
       "    .dataframe tbody tr th {\n",
       "        vertical-align: top;\n",
       "    }\n",
       "\n",
       "    .dataframe thead th {\n",
       "        text-align: right;\n",
       "    }\n",
       "</style>\n",
       "<table border=\"1\" class=\"dataframe\">\n",
       "  <thead>\n",
       "    <tr style=\"text-align: right;\">\n",
       "      <th></th>\n",
       "      <th>/</th>\n",
       "      <th>ExpA:Var1</th>\n",
       "      <th>ExpA:Var2</th>\n",
       "      <th>Sum</th>\n",
       "    </tr>\n",
       "  </thead>\n",
       "  <tbody>\n",
       "    <tr>\n",
       "      <th>0</th>\n",
       "      <td>ExpB:Var1</td>\n",
       "      <td>2501719</td>\n",
       "      <td>2499497</td>\n",
       "      <td>5001216</td>\n",
       "    </tr>\n",
       "    <tr>\n",
       "      <th>1</th>\n",
       "      <td>ExpB:Var2</td>\n",
       "      <td>2497919</td>\n",
       "      <td>2500865</td>\n",
       "      <td>4998784</td>\n",
       "    </tr>\n",
       "    <tr>\n",
       "      <th>2</th>\n",
       "      <td>Sum</td>\n",
       "      <td>4999638</td>\n",
       "      <td>5000362</td>\n",
       "      <td>10000000</td>\n",
       "    </tr>\n",
       "  </tbody>\n",
       "</table>\n",
       "</div>"
      ],
      "text/plain": [
       "           /  ExpA:Var1  ExpA:Var2       Sum\n",
       "0  ExpB:Var1    2501719    2499497   5001216\n",
       "1  ExpB:Var2    2497919    2500865   4998784\n",
       "2        Sum    4999638    5000362  10000000"
      ]
     },
     "execution_count": 6,
     "metadata": {},
     "output_type": "execute_result"
    }
   ],
   "source": [
    "df_md5, matrix_md5 = gen_data(Md5Hasher(), population)\n",
    "\n",
    "df_md5"
   ]
  },
  {
   "cell_type": "markdown",
   "metadata": {},
   "source": [
    "### Chi Squared Test"
   ]
  },
  {
   "cell_type": "code",
   "execution_count": 7,
   "metadata": {
    "scrolled": false
   },
   "outputs": [
    {
     "name": "stdout",
     "output_type": "stream",
     "text": [
      "step 0,0: case=2501719, exp=2500271.995008\n",
      "step 0,1: case=2499497, exp=2499648.004992\n",
      "step 1,0: case=2497919, exp=2500352.004992\n",
      "step 1,1: case=2500865, exp=2499727.995008\n"
     ]
    },
    {
     "data": {
      "text/plain": [
       "3.7312009359272253"
      ]
     },
     "execution_count": 7,
     "metadata": {},
     "output_type": "execute_result"
    }
   ],
   "source": [
    "statistic_test(matrix_md5)"
   ]
  },
  {
   "cell_type": "markdown",
   "metadata": {},
   "source": [
    "## Sha256\n",
    "\n",
    "### Data Generation"
   ]
  },
  {
   "cell_type": "code",
   "execution_count": 8,
   "metadata": {
    "scrolled": false
   },
   "outputs": [
    {
     "data": {
      "text/html": [
       "<div>\n",
       "<style scoped>\n",
       "    .dataframe tbody tr th:only-of-type {\n",
       "        vertical-align: middle;\n",
       "    }\n",
       "\n",
       "    .dataframe tbody tr th {\n",
       "        vertical-align: top;\n",
       "    }\n",
       "\n",
       "    .dataframe thead th {\n",
       "        text-align: right;\n",
       "    }\n",
       "</style>\n",
       "<table border=\"1\" class=\"dataframe\">\n",
       "  <thead>\n",
       "    <tr style=\"text-align: right;\">\n",
       "      <th></th>\n",
       "      <th>/</th>\n",
       "      <th>ExpA:Var1</th>\n",
       "      <th>ExpA:Var2</th>\n",
       "      <th>Sum</th>\n",
       "    </tr>\n",
       "  </thead>\n",
       "  <tbody>\n",
       "    <tr>\n",
       "      <th>0</th>\n",
       "      <td>ExpB:Var1</td>\n",
       "      <td>2500187</td>\n",
       "      <td>2499676</td>\n",
       "      <td>4999863</td>\n",
       "    </tr>\n",
       "    <tr>\n",
       "      <th>1</th>\n",
       "      <td>ExpB:Var2</td>\n",
       "      <td>2500183</td>\n",
       "      <td>2499954</td>\n",
       "      <td>5000137</td>\n",
       "    </tr>\n",
       "    <tr>\n",
       "      <th>2</th>\n",
       "      <td>Sum</td>\n",
       "      <td>5000370</td>\n",
       "      <td>4999630</td>\n",
       "      <td>10000000</td>\n",
       "    </tr>\n",
       "  </tbody>\n",
       "</table>\n",
       "</div>"
      ],
      "text/plain": [
       "           /  ExpA:Var1  ExpA:Var2       Sum\n",
       "0  ExpB:Var1    2500187    2499676   4999863\n",
       "1  ExpB:Var2    2500183    2499954   5000137\n",
       "2        Sum    5000370    4999630  10000000"
      ]
     },
     "execution_count": 8,
     "metadata": {},
     "output_type": "execute_result"
    }
   ],
   "source": [
    "df_sha, matrix_sha = gen_data(Sha256Hasher(), population)\n",
    "\n",
    "df_sha"
   ]
  },
  {
   "cell_type": "markdown",
   "metadata": {},
   "source": [
    "### Chi Squared Test"
   ]
  },
  {
   "cell_type": "code",
   "execution_count": 9,
   "metadata": {
    "scrolled": false
   },
   "outputs": [
    {
     "name": "stdout",
     "output_type": "stream",
     "text": [
      "step 0,0: case=2500187, exp=2500271.995008\n",
      "step 0,1: case=2499676, exp=2499648.004992\n",
      "step 1,0: case=2500183, exp=2500352.004992\n",
      "step 1,1: case=2499954, exp=2499727.995008\n"
     ]
    },
    {
     "data": {
      "text/plain": [
       "0.03505987078617739"
      ]
     },
     "execution_count": 9,
     "metadata": {},
     "output_type": "execute_result"
    }
   ],
   "source": [
    "statistic_test(matrix_sha)"
   ]
  }
 ],
 "metadata": {
  "kernelspec": {
   "display_name": "Python 3",
   "language": "python",
   "name": "python3"
  },
  "language_info": {
   "codemirror_mode": {
    "name": "ipython",
    "version": 3
   },
   "file_extension": ".py",
   "mimetype": "text/x-python",
   "name": "python",
   "nbconvert_exporter": "python",
   "pygments_lexer": "ipython3",
   "version": "3.7.3"
  }
 },
 "nbformat": 4,
 "nbformat_minor": 2
}
